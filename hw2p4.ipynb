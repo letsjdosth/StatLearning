{
 "cells": [
  {
   "cell_type": "markdown",
   "metadata": {},
   "source": [
    "# HW 2 Problem 4\n",
    "\n",
    "Seokjun Choi\n",
    "\n",
    "*Python is used for this work. Below codes are tested at Python 3.10.15 64-bit in Windows 10.*\n",
    "\n",
    "*Link for the stand-alone Python script: https://github.com/letsjdosth/StatLearning/blob/main/hw2p4.py*\n",
    "\n",
    "*(Especially because of the type annotation, Python interpreters lower than version 3.8 may not run this code.)*\n",
    "\n",
    "## (d) Implementing the shooting algorithm\n",
    "\n",
    "The function *shooting2* is the core part of the shooting algorithm.\n",
    "In each iteration of the 'while' statement, each coordinate is updated sequentially (not randomly.)\n",
    "The variable *xb* is the cached variable for $X\\beta = \\tilde{X}\\tilde{\\beta]}$, following the answer of 4-(c).\n",
    "\n",
    "I tested two other implementations, which are\n",
    "1. without caching\n",
    "    - It turns out that caching saves a lot of time. I could not finish the 5-fold CV at nine lambda points even if I ran the code for 2 hours. (So I gave up running.)\n",
    "2. block-coordinate descent / full-coordinate descent\n",
    "    - I thought that it should work. However, when $\\lambda$ value is small, it severely suffers from a convergence problem with more than one-coordinate descent. Determining a stopping rule is tricky.\n",
    "    - With high $\\lambda$, actually multi-coordinate-descent(?) is faster than one-coordinate-descent. As long as my computer's memory allows it to run, a block coordinate descent is a better option.\n",
    "\n",
    "I will not include these additional implementations' results in this document.\n",
    "If you want, please see the stand-alone python script. (you can find two more functions for the shooting algorithm.)"
   ]
  },
  {
   "cell_type": "code",
   "execution_count": 11,
   "metadata": {},
   "outputs": [],
   "source": [
    "import numpy as np\n",
    "import matplotlib.pyplot as plt\n",
    "\n",
    "rv_gen = np.random.default_rng(seed=20221107)\n",
    "\n",
    "# generating synthetic data\n",
    "n = 50\n",
    "p = 1000\n",
    "Sigma = np.zeros((p,p))\n",
    "for i in range(Sigma.shape[0]):\n",
    "    for j in range(Sigma.shape[1]):\n",
    "        Sigma[i,j] = 0.5**abs(i-j)\n",
    "\n",
    "x_array = rv_gen.multivariate_normal(np.zeros((p)), Sigma, size=50) #(50, 1000)\n",
    "beta = np.array([1.5, 0, 0.5, 0, 1] + [0 for _ in range(p-5)])\n",
    "y_array = x_array @ beta + rv_gen.multivariate_normal(np.zeros((n)), 0.04*np.identity(n)) #(50,)\n",
    "\n",
    "\n",
    "def average_loss(x: np.array, y: np.array, fitted_beta: np.array):\n",
    "    n = x.shape[0]\n",
    "    return sum((y - x@fitted_beta)**2)**0.5 / n\n",
    "\n",
    "def lasso_loss(x: np.array, y: np.array, lambda_val: int|float, fitted_beta: np.array):\n",
    "    return average_loss(x,y,fitted_beta) + lambda_val*sum([abs(b) for b in fitted_beta])\n",
    "\n",
    "def l0_norm(a: np.array):\n",
    "    return np.count_nonzero(a)\n",
    "\n",
    "\n",
    "def shooting2(x: np.array, y: np.array, lambda_val: int|float, initial_beta: list, epsilon=1e-5):\n",
    "    n = x.shape[0]\n",
    "    p = x.shape[1]\n",
    "    xb = x@initial_beta\n",
    "\n",
    "    beta_tilde = np.array([b if b>0 else 0 for b in initial_beta] + [-b if b<0 else 0 for b in initial_beta])\n",
    "    # print(beta_tilde.shape) #(2000,)\n",
    "\n",
    "    num_iter = 0\n",
    "    delta = np.zeros((2*p))\n",
    "    while(True):\n",
    "        num_iter += 1\n",
    "        for j in range(2*p):\n",
    "            beta_tilde_j = beta_tilde[j]\n",
    "            if j<p:\n",
    "                x_tilde_j = x[:,j]\n",
    "            else:\n",
    "                x_tilde_j = -x[:,j-p]\n",
    "            grad = np.transpose(x_tilde_j) @ (xb - y)/n + lambda_val\n",
    "\n",
    "            delta_j = np.max((-beta_tilde_j, -grad))\n",
    "            delta[j] = delta_j\n",
    "            \n",
    "            new_beta_tilde_j = beta_tilde_j + delta_j\n",
    "            beta_tilde[j] = new_beta_tilde_j\n",
    "\n",
    "            xb += (delta_j*x_tilde_j)\n",
    "            # print(xb)\n",
    "            \n",
    "        if sum(delta**2) < epsilon:\n",
    "            print(\"iter:\", num_iter)\n",
    "            return beta_tilde[0:p] - beta_tilde[p:2*p]\n",
    "        if num_iter > 5000:\n",
    "            print(\"it may not fit fully. iter:\", num_iter)\n",
    "            return beta_tilde[0:p] - beta_tilde[p:2*p]"
   ]
  },
  {
   "cell_type": "markdown",
   "metadata": {},
   "source": [
    "**One Sad thing**: I'm using laptop having INTEL 8265U CPU with 8GB RAM. (Yes, 8th gen! You may know that currently, the newest is 13th gen.)\n",
    "Running 5-fold CV at 21 different $\\lambda$ values $(0, 0.01,...,0.20)$ was too harsh work for my computer, making my desk endlessly warm (it was running for more than 3 hours, so again I gave up.)\n",
    "Alternatively, I run 9 $\\lambda$ points $(0, 0.025, ..., 0.175, 0.2)$. Happily, it finished within 2 hours.\n",
    "\n",
    "To avoid too many loops, I set to cut each while loop at the 5000th iteration.\n",
    "Luckily, all cases converge within 2800 iterations (Generally, lower $lambda>0$ requires more iterations to converge.)\n",
    "So we do not need to worry about under-fit."
   ]
  },
  {
   "cell_type": "code",
   "execution_count": null,
   "metadata": {},
   "outputs": [],
   "source": [
    "initial_beta = [10*rv_gen.random()-0.5 for _ in range(p)]\n",
    "\n",
    "lambda_candid = np.arange(0, 0.21, 0.025)\n",
    "\n",
    "l0_norm_vec = []\n",
    "training_average_quad_loss_vec = []\n",
    "training_average_lasso_loss_vec = []\n",
    "testing_average_quad_loss_vec = []\n",
    "testing_average_lasso_loss_vec = []\n",
    "\n",
    "for lambda_val in lambda_candid:\n",
    "    # print(\"lambda_val:\", lambda_val)\n",
    "    l0_norm_at_lambda = []\n",
    "    training_quad_loss_at_lambda = []\n",
    "    training_lasso_loss_at_lambda = []\n",
    "    testing_quad_loss_at_lambda = []\n",
    "    testing_lasso_loss_at_lambda = []\n",
    "    \n",
    "    for batch_idx in range(5): #5fold-cross-validation\n",
    "        print(\"lambda_val:\", lambda_val, \" batch:\", batch_idx)\n",
    "        test_index = [batch_idx*10+i for i in range(10)]\n",
    "        train_index = [i for i in range(batch_idx*10)] + [i for i in range(test_index[-1]+1, 50)]\n",
    "\n",
    "        train_x_array = x_array[train_index,:]\n",
    "        train_y_array = y_array[train_index]\n",
    "        test_x_array = x_array[test_index,:]\n",
    "        test_y_array = y_array[test_index]\n",
    "\n",
    "        beta_fit = shooting2(train_x_array, train_y_array, lambda_val, initial_beta)\n",
    "        l0_norm_at_lambda.append(l0_norm(beta_fit))\n",
    "        training_quad_loss_at_lambda.append(average_loss(train_x_array, train_y_array, beta_fit))\n",
    "        training_lasso_loss_at_lambda.append(lasso_loss(train_x_array, train_y_array, lambda_val, beta_fit))\n",
    "        testing_quad_loss_at_lambda.append(average_loss(test_x_array, test_y_array, beta_fit))\n",
    "        testing_lasso_loss_at_lambda.append(lasso_loss(test_x_array, test_y_array, lambda_val, beta_fit))\n",
    "    \n",
    "    l0_norm_vec.append(np.mean(l0_norm_at_lambda))\n",
    "    training_average_quad_loss_vec.append(np.mean(training_quad_loss_at_lambda))\n",
    "    training_average_lasso_loss_vec.append(np.mean(training_lasso_loss_at_lambda))\n",
    "    testing_average_quad_loss_vec.append(np.mean(testing_quad_loss_at_lambda))\n",
    "    testing_average_lasso_loss_vec.append(np.mean(testing_lasso_loss_at_lambda))"
   ]
  },
  {
   "cell_type": "code",
   "execution_count": 13,
   "metadata": {},
   "outputs": [
    {
     "name": "stdout",
     "output_type": "stream",
     "text": [
      "[(0.0, 923.0), (0.025, 32.8), (0.05, 18.4), (0.07500000000000001, 13.0), (0.1, 7.8), (0.125, 5.6), (0.15000000000000002, 4.8), (0.17500000000000002, 4.0), (0.2, 3.8)]\n"
     ]
    }
   ],
   "source": [
    "print([(l,ll) for l,ll in zip(lambda_candid, l0_norm_vec)])\n",
    "# [(0.0, 923.0), (0.025, 32.8), (0.05, 18.4), (0.075, 13.0), (0.1, 7.8), (0.125, 5.6), (0.15, 4.8), (0.175, 4.0), (0.2, 3.8)]"
   ]
  },
  {
   "cell_type": "markdown",
   "metadata": {},
   "source": [
    "The above outputs are $(\\lambda,||\\beta||_{0})$ pairs.\n",
    "As pointed out in the lecture, LASSO cannot give non-zero elements more than $max(n,p)$.\n",
    "(But when failing to converge, particularly when $\\lambda$ is very close to 0, the algorithm gives an estimate with too many non-zeros, more than $n$.)\n",
    "\n",
    "Note that the true $\\beta$'s $l_0$ norm is 3."
   ]
  },
  {
   "cell_type": "code",
   "execution_count": 14,
   "metadata": {},
   "outputs": [
    {
     "data": {
      "image/png": "[encoded data removed]",
      "text/plain": [
       "<Figure size 432x288 with 6 Axes>"
      ]
     },
     "metadata": {
      "needs_background": "light"
     },
     "output_type": "display_data"
    }
   ],
   "source": [
    "fig, ax = plt.subplots(2,3)\n",
    "ax[0,0].plot(lambda_candid, l0_norm_vec)\n",
    "ax[0,0].set_title(\"l0 norm\")\n",
    "ax[0,1].plot(lambda_candid, training_average_quad_loss_vec)\n",
    "ax[0,1].set_title(\"training_quad_loss\")\n",
    "ax[0,2].plot(lambda_candid, training_average_lasso_loss_vec)\n",
    "ax[0,2].set_title(\"training_lasso_loss\")\n",
    "\n",
    "ax[1,1].plot(lambda_candid, testing_average_quad_loss_vec)\n",
    "ax[1,1].set_title(\"testing_quad_loss\")\n",
    "ax[1,2].plot(lambda_candid, testing_average_lasso_loss_vec)\n",
    "ax[1,2].set_title(\"testing_lasso_loss\")\n",
    "plt.show()"
   ]
  },
  {
   "cell_type": "markdown",
   "metadata": {},
   "source": [
    "Five graphs (below-left is a blank) show the $l_0$-norms(the number of non-zero elements in each estimate, which are the same information on the above block), training/testing quadratic losses, training/testing lasso losses(objective function value) for nine lambda values.\n",
    "\n",
    "If I did not know the true $\\beta$, I might have chosen $lambda$ around 0.175, where the $l_0$ norm's rate of decline starts to slow down markedly.\n",
    "I could get the estimate with four non-zero elements.\n",
    "\n",
    "Note that choosing $\\lambda$ using quadratic training loss is nonsense.\n",
    "LASSO yields a biased estimator whose bias grows with large $\\lambda$, so I think this criterion leads to too small $\\lambda$.\n",
    "It can be viewed as a case of overfitting.\n",
    "\n",
    "One may argue that $\\lambda$ that makes testing quadratic loss minimum is the best choice.\n",
    "I know that many people are widely accepting this rule.\n",
    "If our goal is only prediction, I agree with the argument. I should choose larger $\\lambda$.\n",
    "\n",
    "However, balancing bias and sparsity may be important if we consider the inference about $\\beta$ itself.\n",
    "But, it may be fair to say that doing inference on $\\beta$ using LASSO is not a very good idea, though."
   ]
  }
 ],
 "metadata": {
  "kernelspec": {
   "display_name": "Python 3.10.5 64-bit",
   "language": "python",
   "name": "python3"
  },
  "language_info": {
   "codemirror_mode": {
    "name": "ipython",
    "version": 3
   },
   "file_extension": ".py",
   "mimetype": "text/x-python",
   "name": "python",
   "nbconvert_exporter": "python",
   "pygments_lexer": "ipython3",
   "version": "3.10.5"
  },
  "orig_nbformat": 4,
  "vscode": {
   "interpreter": {
    "hash": "2042ea192b9546916b2f4b83417d17268b965fad54e75625af957208cf17bb2b"
   }
  }
 },
 "nbformat": 4,
 "nbformat_minor": 2
}
